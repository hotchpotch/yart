{
 "cells": [
  {
   "cell_type": "code",
   "execution_count": 8,
   "id": "0f3b64d6",
   "metadata": {},
   "outputs": [
    {
     "name": "stderr",
     "output_type": "stream",
     "text": [
      "You are attempting to use Flash Attention 2.0 with a model not initialized on GPU. Make sure to move the model to GPU after initializing it on CPU with `model.to('cuda')`.\n"
     ]
    }
   ],
   "source": [
    "MODEL_NAME = \"hotchpotch/japanese-reranker-tiny-v2\"\n",
    "# MODEL_NAME = \"hotchpotch/japanese-reranker-xsmall-v2\"\n",
    "\n",
    "from sentence_transformers import CrossEncoder\n",
    "\n",
    "model = CrossEncoder(MODEL_NAME, device=\"cpu\")"
   ]
  },
  {
   "cell_type": "code",
   "execution_count": 9,
   "id": "41046755",
   "metadata": {},
   "outputs": [
    {
     "name": "stderr",
     "output_type": "stream",
     "text": [
      "The ONNX file model_qint8_avx512_vnni.onnx is not a regular name used in optimum.onnxruntime, the ORTModel might not behave as expected.\n"
     ]
    }
   ],
   "source": [
    "# from sentence_transformers import SentenceTransformer\n",
    "from sentence_transformers import CrossEncoder\n",
    "\n",
    "model = CrossEncoder(\n",
    "    \"/home/hotchpotch/src/huggingface.co/hotchpotch/japanese-reranker-tiny-v2/\",\n",
    "    backend=\"onnx\",\n",
    "    model_kwargs={\"file_name\": \"onnx/model_qint8_avx512_vnni.onnx\"},\n",
    "    device=\"cpu\",\n",
    ")"
   ]
  },
  {
   "cell_type": "code",
   "execution_count": 10,
   "id": "64ac6805",
   "metadata": {},
   "outputs": [
    {
     "data": {
      "text/plain": [
       "CrossEncoder(\n",
       "  (activation_fn): Sigmoid()\n",
       ")"
      ]
     },
     "execution_count": 10,
     "metadata": {},
     "output_type": "execute_result"
    }
   ],
   "source": [
    "model"
   ]
  },
  {
   "cell_type": "code",
   "execution_count": 11,
   "id": "6672b22e",
   "metadata": {},
   "outputs": [
    {
     "name": "stderr",
     "output_type": "stream",
     "text": [
      "Batches: 100%|██████████| 1/1 [00:00<00:00, 298.23it/s]"
     ]
    },
    {
     "name": "stdout",
     "output_type": "stream",
     "text": [
      "Scores: [0.12428142 0.03190478 0.04215725 0.05914123]\n"
     ]
    },
    {
     "name": "stderr",
     "output_type": "stream",
     "text": [
      "\n"
     ]
    }
   ],
   "source": [
    "from sentence_transformers import CrossEncoder\n",
    "import torch\n",
    "\n",
    "# MODEL_NAME = \"hotchpotch/japanese-reranker-tiny-v2\"\n",
    "\n",
    "# model = CrossEncoder(MODEL_NAME)\n",
    "# if model.device == \"cuda\" or model.device == \"mps\":\n",
    "#     model.model.half()\n",
    "query = \"感動的な映画について\"\n",
    "passages = [\n",
    "    \"深いテーマを持ちながらも、観る人の心を揺さぶる名作。登場人物の心情描写が秀逸で、ラストは涙なしでは見られない。\",\n",
    "    \"重要なメッセージ性は評価できるが、暗い話が続くので気分が落ち込んでしまった。もう少し明るい要素があればよかった。\",\n",
    "    \"どうにもリアリティに欠ける展開が気になった。もっと深みのある人間ドラマが見たかった。\",\n",
    "    \"アクションシーンが楽しすぎる。見ていて飽きない。ストーリーはシンプルだが、それが逆に良い。\",\n",
    "]\n",
    "scores = model.predict(\n",
    "    [(query, passage) for passage in passages],\n",
    "    show_progress_bar=True,\n",
    ")\n",
    "print(\"Scores:\", scores)\n"
   ]
  }
 ],
 "metadata": {
  "kernelspec": {
   "display_name": ".venv",
   "language": "python",
   "name": "python3"
  },
  "language_info": {
   "codemirror_mode": {
    "name": "ipython",
    "version": 3
   },
   "file_extension": ".py",
   "mimetype": "text/x-python",
   "name": "python",
   "nbconvert_exporter": "python",
   "pygments_lexer": "ipython3",
   "version": "3.12.7"
  }
 },
 "nbformat": 4,
 "nbformat_minor": 5
}
