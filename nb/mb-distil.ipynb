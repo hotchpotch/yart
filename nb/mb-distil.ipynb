{
 "cells": [
  {
   "cell_type": "code",
   "execution_count": 1,
   "id": "1606690e",
   "metadata": {},
   "outputs": [
    {
     "name": "stderr",
     "output_type": "stream",
     "text": [
      "/home/hotchpotch/src/github.com/hotchpotch/yart/.venv/lib/python3.12/site-packages/tqdm/auto.py:21: TqdmWarning: IProgress not found. Please update jupyter and ipywidgets. See https://ipywidgets.readthedocs.io/en/stable/user_install.html\n",
      "  from .autonotebook import tqdm as notebook_tqdm\n",
      "You are attempting to use Flash Attention 2.0 with a model not initialized on GPU. Make sure to move the model to GPU after initializing it on CPU with `model.to('cuda')`.\n"
     ]
    }
   ],
   "source": [
    "from transformers import AutoModel, AutoTokenizer\n",
    "import torch\n",
    "\n",
    "# モデルをロード\n",
    "model_path = \"sbintuitions/modernbert-ja-30m\"\n",
    "model = AutoModel.from_pretrained(model_path)\n"
   ]
  },
  {
   "cell_type": "code",
   "execution_count": 2,
   "id": "30be73be",
   "metadata": {},
   "outputs": [],
   "source": [
    "tokenizer = AutoTokenizer.from_pretrained(model_path)"
   ]
  },
  {
   "cell_type": "code",
   "execution_count": null,
   "id": "62a178ea",
   "metadata": {},
   "outputs": [
    {
     "name": "stdout",
     "output_type": "stream",
     "text": [
      "元のモデル構造: ModernBertModel(\n",
      "  (embeddings): ModernBertEmbeddings(\n",
      "    (tok_embeddings): Embedding(102400, 256, padding_idx=3)\n",
      "    (norm): LayerNorm((256,), eps=1e-05, elementwise_affine=True)\n",
      "    (drop): Dropout(p=0.0, inplace=False)\n",
      "  )\n",
      "  (layers): ModuleList(\n",
      "    (0): ModernBertEncoderLayer(\n",
      "      (attn_norm): Identity()\n",
      "      (attn): ModernBertAttention(\n",
      "        (Wqkv): Linear(in_features=256, out_features=768, bias=False)\n",
      "        (rotary_emb): ModernBertUnpaddedRotaryEmbedding(dim=64, base=160000.0, scale_base=None)\n",
      "        (Wo): Linear(in_features=256, out_features=256, bias=False)\n",
      "        (out_drop): Identity()\n",
      "      )\n",
      "      (mlp_norm): LayerNorm((256,), eps=1e-05, elementwise_affine=True)\n",
      "      (mlp): ModernBertMLP(\n",
      "        (Wi): Linear(in_features=256, out_features=2048, bias=False)\n",
      "        (act): GELUActivation()\n",
      "        (drop): Dropout(p=0.0, inplace=False)\n",
      "        (Wo): Linear(in_features=1024, out_features=256, bias=False)\n",
      "      )\n",
      "    )\n",
      "    (1-2): 2 x ModernBertEncoderLayer(\n",
      "      (attn_norm): LayerNorm((256,), eps=1e-05, elementwise_affine=True)\n",
      "      (attn): ModernBertAttention(\n",
      "        (Wqkv): Linear(in_features=256, out_features=768, bias=False)\n",
      "        (rotary_emb): ModernBertUnpaddedRotaryEmbedding(dim=64, base=10000.0, scale_base=None)\n",
      "        (Wo): Linear(in_features=256, out_features=256, bias=False)\n",
      "        (out_drop): Identity()\n",
      "      )\n",
      "      (mlp_norm): LayerNorm((256,), eps=1e-05, elementwise_affine=True)\n",
      "      (mlp): ModernBertMLP(\n",
      "        (Wi): Linear(in_features=256, out_features=2048, bias=False)\n",
      "        (act): GELUActivation()\n",
      "        (drop): Dropout(p=0.0, inplace=False)\n",
      "        (Wo): Linear(in_features=1024, out_features=256, bias=False)\n",
      "      )\n",
      "    )\n",
      "    (3): ModernBertEncoderLayer(\n",
      "      (attn_norm): LayerNorm((256,), eps=1e-05, elementwise_affine=True)\n",
      "      (attn): ModernBertAttention(\n",
      "        (Wqkv): Linear(in_features=256, out_features=768, bias=False)\n",
      "        (rotary_emb): ModernBertUnpaddedRotaryEmbedding(dim=64, base=160000.0, scale_base=None)\n",
      "        (Wo): Linear(in_features=256, out_features=256, bias=False)\n",
      "        (out_drop): Identity()\n",
      "      )\n",
      "      (mlp_norm): LayerNorm((256,), eps=1e-05, elementwise_affine=True)\n",
      "      (mlp): ModernBertMLP(\n",
      "        (Wi): Linear(in_features=256, out_features=2048, bias=False)\n",
      "        (act): GELUActivation()\n",
      "        (drop): Dropout(p=0.0, inplace=False)\n",
      "        (Wo): Linear(in_features=1024, out_features=256, bias=False)\n",
      "      )\n",
      "    )\n",
      "    (4-5): 2 x ModernBertEncoderLayer(\n",
      "      (attn_norm): LayerNorm((256,), eps=1e-05, elementwise_affine=True)\n",
      "      (attn): ModernBertAttention(\n",
      "        (Wqkv): Linear(in_features=256, out_features=768, bias=False)\n",
      "        (rotary_emb): ModernBertUnpaddedRotaryEmbedding(dim=64, base=10000.0, scale_base=None)\n",
      "        (Wo): Linear(in_features=256, out_features=256, bias=False)\n",
      "        (out_drop): Identity()\n",
      "      )\n",
      "      (mlp_norm): LayerNorm((256,), eps=1e-05, elementwise_affine=True)\n",
      "      (mlp): ModernBertMLP(\n",
      "        (Wi): Linear(in_features=256, out_features=2048, bias=False)\n",
      "        (act): GELUActivation()\n",
      "        (drop): Dropout(p=0.0, inplace=False)\n",
      "        (Wo): Linear(in_features=1024, out_features=256, bias=False)\n",
      "      )\n",
      "    )\n",
      "    (6): ModernBertEncoderLayer(\n",
      "      (attn_norm): LayerNorm((256,), eps=1e-05, elementwise_affine=True)\n",
      "      (attn): ModernBertAttention(\n",
      "        (Wqkv): Linear(in_features=256, out_features=768, bias=False)\n",
      "        (rotary_emb): ModernBertUnpaddedRotaryEmbedding(dim=64, base=160000.0, scale_base=None)\n",
      "        (Wo): Linear(in_features=256, out_features=256, bias=False)\n",
      "        (out_drop): Identity()\n",
      "      )\n",
      "      (mlp_norm): LayerNorm((256,), eps=1e-05, elementwise_affine=True)\n",
      "      (mlp): ModernBertMLP(\n",
      "        (Wi): Linear(in_features=256, out_features=2048, bias=False)\n",
      "        (act): GELUActivation()\n",
      "        (drop): Dropout(p=0.0, inplace=False)\n",
      "        (Wo): Linear(in_features=1024, out_features=256, bias=False)\n",
      "      )\n",
      "    )\n",
      "    (7-8): 2 x ModernBertEncoderLayer(\n",
      "      (attn_norm): LayerNorm((256,), eps=1e-05, elementwise_affine=True)\n",
      "      (attn): ModernBertAttention(\n",
      "        (Wqkv): Linear(in_features=256, out_features=768, bias=False)\n",
      "        (rotary_emb): ModernBertUnpaddedRotaryEmbedding(dim=64, base=10000.0, scale_base=None)\n",
      "        (Wo): Linear(in_features=256, out_features=256, bias=False)\n",
      "        (out_drop): Identity()\n",
      "      )\n",
      "      (mlp_norm): LayerNorm((256,), eps=1e-05, elementwise_affine=True)\n",
      "      (mlp): ModernBertMLP(\n",
      "        (Wi): Linear(in_features=256, out_features=2048, bias=False)\n",
      "        (act): GELUActivation()\n",
      "        (drop): Dropout(p=0.0, inplace=False)\n",
      "        (Wo): Linear(in_features=1024, out_features=256, bias=False)\n",
      "      )\n",
      "    )\n",
      "    (9): ModernBertEncoderLayer(\n",
      "      (attn_norm): LayerNorm((256,), eps=1e-05, elementwise_affine=True)\n",
      "      (attn): ModernBertAttention(\n",
      "        (Wqkv): Linear(in_features=256, out_features=768, bias=False)\n",
      "        (rotary_emb): ModernBertUnpaddedRotaryEmbedding(dim=64, base=160000.0, scale_base=None)\n",
      "        (Wo): Linear(in_features=256, out_features=256, bias=False)\n",
      "        (out_drop): Identity()\n",
      "      )\n",
      "      (mlp_norm): LayerNorm((256,), eps=1e-05, elementwise_affine=True)\n",
      "      (mlp): ModernBertMLP(\n",
      "        (Wi): Linear(in_features=256, out_features=2048, bias=False)\n",
      "        (act): GELUActivation()\n",
      "        (drop): Dropout(p=0.0, inplace=False)\n",
      "        (Wo): Linear(in_features=1024, out_features=256, bias=False)\n",
      "      )\n",
      "    )\n",
      "  )\n",
      "  (final_norm): LayerNorm((256,), eps=1e-05, elementwise_affine=True)\n",
      ")\n",
      "修正後のモデル構造: ModernBertModel(\n",
      "  (embeddings): ModernBertEmbeddings(\n",
      "    (tok_embeddings): Embedding(102400, 256, padding_idx=3)\n",
      "    (norm): LayerNorm((256,), eps=1e-05, elementwise_affine=True)\n",
      "    (drop): Dropout(p=0.0, inplace=False)\n",
      "  )\n",
      "  (layers): ModuleList(\n",
      "    (0): ModernBertEncoderLayer(\n",
      "      (attn_norm): Identity()\n",
      "      (attn): ModernBertAttention(\n",
      "        (Wqkv): Linear(in_features=256, out_features=768, bias=False)\n",
      "        (rotary_emb): ModernBertUnpaddedRotaryEmbedding(dim=64, base=160000.0, scale_base=None)\n",
      "        (Wo): Linear(in_features=256, out_features=256, bias=False)\n",
      "        (out_drop): Identity()\n",
      "      )\n",
      "      (mlp_norm): LayerNorm((256,), eps=1e-05, elementwise_affine=True)\n",
      "      (mlp): ModernBertMLP(\n",
      "        (Wi): Linear(in_features=256, out_features=2048, bias=False)\n",
      "        (act): GELUActivation()\n",
      "        (drop): Dropout(p=0.0, inplace=False)\n",
      "        (Wo): Linear(in_features=1024, out_features=256, bias=False)\n",
      "      )\n",
      "    )\n",
      "    (1-2): 2 x ModernBertEncoderLayer(\n",
      "      (attn_norm): LayerNorm((256,), eps=1e-05, elementwise_affine=True)\n",
      "      (attn): ModernBertAttention(\n",
      "        (Wqkv): Linear(in_features=256, out_features=768, bias=False)\n",
      "        (rotary_emb): ModernBertUnpaddedRotaryEmbedding(dim=64, base=10000.0, scale_base=None)\n",
      "        (Wo): Linear(in_features=256, out_features=256, bias=False)\n",
      "        (out_drop): Identity()\n",
      "      )\n",
      "      (mlp_norm): LayerNorm((256,), eps=1e-05, elementwise_affine=True)\n",
      "      (mlp): ModernBertMLP(\n",
      "        (Wi): Linear(in_features=256, out_features=2048, bias=False)\n",
      "        (act): GELUActivation()\n",
      "        (drop): Dropout(p=0.0, inplace=False)\n",
      "        (Wo): Linear(in_features=1024, out_features=256, bias=False)\n",
      "      )\n",
      "    )\n",
      "  )\n",
      "  (final_norm): LayerNorm((256,), eps=1e-05, elementwise_affine=True)\n",
      ")\n"
     ]
    }
   ],
   "source": [
    "# モデルの構造を確認\n",
    "print(f\"元のモデル構造: {model}\")\n",
    "\n",
    "# 残したいレイヤーのインデックス\n",
    "keep_layers = [0]\n",
    "\n",
    "# モデルのレイヤー構成を取得（この場合は model.layers）\n",
    "all_layers = model.layers\n",
    "\n",
    "# 新しいレイヤーリストを作成\n",
    "new_layers = torch.nn.ModuleList([all_layers[i] for i in keep_layers])\n",
    "\n",
    "# 元のレイヤーを新しいレイヤーで置き換え\n",
    "model.layers = new_layers\n",
    "\n",
    "# レイヤー数の設定を更新（設定がある場合）\n",
    "if hasattr(model.config, \"num_hidden_layers\"):\n",
    "    model.config.num_hidden_layers = len(keep_layers)\n",
    "\n",
    "print(f\"修正後のモデル構造: {model}\")"
   ]
  },
  {
   "cell_type": "code",
   "execution_count": 4,
   "id": "5d07423e",
   "metadata": {},
   "outputs": [
    {
     "data": {
      "text/plain": [
       "ModernBertModel(\n",
       "  (embeddings): ModernBertEmbeddings(\n",
       "    (tok_embeddings): Embedding(102400, 256, padding_idx=3)\n",
       "    (norm): LayerNorm((256,), eps=1e-05, elementwise_affine=True)\n",
       "    (drop): Dropout(p=0.0, inplace=False)\n",
       "  )\n",
       "  (layers): ModuleList(\n",
       "    (0): ModernBertEncoderLayer(\n",
       "      (attn_norm): Identity()\n",
       "      (attn): ModernBertAttention(\n",
       "        (Wqkv): Linear(in_features=256, out_features=768, bias=False)\n",
       "        (rotary_emb): ModernBertUnpaddedRotaryEmbedding(dim=64, base=160000.0, scale_base=None)\n",
       "        (Wo): Linear(in_features=256, out_features=256, bias=False)\n",
       "        (out_drop): Identity()\n",
       "      )\n",
       "      (mlp_norm): LayerNorm((256,), eps=1e-05, elementwise_affine=True)\n",
       "      (mlp): ModernBertMLP(\n",
       "        (Wi): Linear(in_features=256, out_features=2048, bias=False)\n",
       "        (act): GELUActivation()\n",
       "        (drop): Dropout(p=0.0, inplace=False)\n",
       "        (Wo): Linear(in_features=1024, out_features=256, bias=False)\n",
       "      )\n",
       "    )\n",
       "    (1-2): 2 x ModernBertEncoderLayer(\n",
       "      (attn_norm): LayerNorm((256,), eps=1e-05, elementwise_affine=True)\n",
       "      (attn): ModernBertAttention(\n",
       "        (Wqkv): Linear(in_features=256, out_features=768, bias=False)\n",
       "        (rotary_emb): ModernBertUnpaddedRotaryEmbedding(dim=64, base=10000.0, scale_base=None)\n",
       "        (Wo): Linear(in_features=256, out_features=256, bias=False)\n",
       "        (out_drop): Identity()\n",
       "      )\n",
       "      (mlp_norm): LayerNorm((256,), eps=1e-05, elementwise_affine=True)\n",
       "      (mlp): ModernBertMLP(\n",
       "        (Wi): Linear(in_features=256, out_features=2048, bias=False)\n",
       "        (act): GELUActivation()\n",
       "        (drop): Dropout(p=0.0, inplace=False)\n",
       "        (Wo): Linear(in_features=1024, out_features=256, bias=False)\n",
       "      )\n",
       "    )\n",
       "  )\n",
       "  (final_norm): LayerNorm((256,), eps=1e-05, elementwise_affine=True)\n",
       ")"
      ]
     },
     "execution_count": 4,
     "metadata": {},
     "output_type": "execute_result"
    }
   ],
   "source": [
    "model"
   ]
  },
  {
   "cell_type": "code",
   "execution_count": 5,
   "id": "5baa62e0",
   "metadata": {},
   "outputs": [
    {
     "data": {
      "text/plain": [
       "'modernbert-ja-30m-layer_0_1_2'"
      ]
     },
     "execution_count": 5,
     "metadata": {},
     "output_type": "execute_result"
    }
   ],
   "source": [
    "layer_name = \"layer_\" + \"_\".join([str(i) for i in keep_layers])\n",
    "save_model_name = f\"modernbert-ja-30m-{layer_name}\"\n",
    "save_model_name\n"
   ]
  },
  {
   "cell_type": "code",
   "execution_count": null,
   "id": "1c6e6a51",
   "metadata": {},
   "outputs": [
    {
     "ename": "NameError",
     "evalue": "name 'err' is not defined",
     "output_type": "error",
     "traceback": [
      "\u001b[31m---------------------------------------------------------------------------\u001b[39m",
      "\u001b[31mNameError\u001b[39m                                 Traceback (most recent call last)",
      "\u001b[36mCell\u001b[39m\u001b[36m \u001b[39m\u001b[32mIn[6]\u001b[39m\u001b[32m, line 1\u001b[39m\n\u001b[32m----> \u001b[39m\u001b[32m1\u001b[39m \u001b[43merr\u001b[49m\n",
      "\u001b[31mNameError\u001b[39m: name 'err' is not defined"
     ]
    }
   ],
   "source": [
    "# err\n",
    "\n"
   ]
  },
  {
   "cell_type": "code",
   "execution_count": 7,
   "id": "357a3def",
   "metadata": {},
   "outputs": [
    {
     "name": "stderr",
     "output_type": "stream",
     "text": [
      "model.safetensors: 100%|██████████| 117M/117M [00:11<00:00, 10.1MB/s] \n"
     ]
    },
    {
     "data": {
      "text/plain": [
       "CommitInfo(commit_url='https://huggingface.co/hotchpotch/modernbert-ja-30m-layer_0_1_2/commit/59a7cbae4090c494a16478f8133bb2cb33346641', commit_message='Upload model', commit_description='', oid='59a7cbae4090c494a16478f8133bb2cb33346641', pr_url=None, repo_url=RepoUrl('https://huggingface.co/hotchpotch/modernbert-ja-30m-layer_0_1_2', endpoint='https://huggingface.co', repo_type='model', repo_id='hotchpotch/modernbert-ja-30m-layer_0_1_2'), pr_revision=None, pr_num=None)"
      ]
     },
     "execution_count": 7,
     "metadata": {},
     "output_type": "execute_result"
    }
   ],
   "source": [
    "model.push_to_hub(\n",
    "    save_model_name,\n",
    "    private=True,\n",
    ")"
   ]
  },
  {
   "cell_type": "code",
   "execution_count": 8,
   "id": "69eb4e96",
   "metadata": {},
   "outputs": [
    {
     "name": "stderr",
     "output_type": "stream",
     "text": [
      "tokenizer.model: 100%|██████████| 1.83M/1.83M [00:00<00:00, 4.17MB/s]\n"
     ]
    },
    {
     "data": {
      "text/plain": [
       "CommitInfo(commit_url='https://huggingface.co/hotchpotch/modernbert-ja-30m-layer_0_1_2/commit/38fd4ea4c0b37bd21b3310a6363a26a59c63b107', commit_message='Upload tokenizer', commit_description='', oid='38fd4ea4c0b37bd21b3310a6363a26a59c63b107', pr_url=None, repo_url=RepoUrl('https://huggingface.co/hotchpotch/modernbert-ja-30m-layer_0_1_2', endpoint='https://huggingface.co', repo_type='model', repo_id='hotchpotch/modernbert-ja-30m-layer_0_1_2'), pr_revision=None, pr_num=None)"
      ]
     },
     "execution_count": 8,
     "metadata": {},
     "output_type": "execute_result"
    }
   ],
   "source": [
    "tokenizer.push_to_hub(\n",
    "    save_model_name,\n",
    "    private=True,\n",
    ")"
   ]
  }
 ],
 "metadata": {
  "kernelspec": {
   "display_name": ".venv",
   "language": "python",
   "name": "python3"
  },
  "language_info": {
   "codemirror_mode": {
    "name": "ipython",
    "version": 3
   },
   "file_extension": ".py",
   "mimetype": "text/x-python",
   "name": "python",
   "nbconvert_exporter": "python",
   "pygments_lexer": "ipython3",
   "version": "3.12.7"
  }
 },
 "nbformat": 4,
 "nbformat_minor": 5
}
