{
 "cells": [
  {
   "cell_type": "code",
   "execution_count": 11,
   "id": "0f3b64d6",
   "metadata": {},
   "outputs": [
    {
     "name": "stderr",
     "output_type": "stream",
     "text": [
      "The ONNX file model_qint8_arm64.onnx is not a regular name used in optimum.onnxruntime, the ORTModel might not behave as expected.\n"
     ]
    }
   ],
   "source": [
    "MODEL_NAME = \"hotchpotch/japanese-reranker-tiny-v2\"\n",
    "# MODEL_NAME = \"hotchpotch/japanese-reranker-xsmall-v2\"\n",
    "\n",
    "from sentence_transformers import CrossEncoder\n",
    "\n",
    "# oxxn のモデルを選ばないと model.onnx が自動で使われる\n",
    "onnx_filename = None\n",
    "\n",
    "# 量子化された最適なモデルを使う場合は、onnx_filename にファイル名を指定する\n",
    "# onnx_filename = \"onnx/model_qint8_avx2.onnx\"\n",
    "onnx_filename = \"onnx/model_qint8_arm64.onnx\"\n",
    "\n",
    "if onnx_filename:\n",
    "    model = CrossEncoder(\n",
    "        MODEL_NAME,\n",
    "        device=\"cpu\",\n",
    "        backend=\"onnx\",\n",
    "        model_kwargs={\"file_name\": onnx_filename},\n",
    "    )\n",
    "else:\n",
    "    model = CrossEncoder(MODEL_NAME, device=\"cpu\", backend=\"onnx\")\n"
   ]
  },
  {
   "cell_type": "code",
   "execution_count": 12,
   "id": "64ac6805",
   "metadata": {},
   "outputs": [
    {
     "data": {
      "text/plain": [
       "CrossEncoder(\n",
       "  (activation_fn): Sigmoid()\n",
       ")"
      ]
     },
     "execution_count": 12,
     "metadata": {},
     "output_type": "execute_result"
    }
   ],
   "source": [
    "model"
   ]
  },
  {
   "cell_type": "code",
   "execution_count": 13,
   "id": "6672b22e",
   "metadata": {},
   "outputs": [
    {
     "name": "stderr",
     "output_type": "stream",
     "text": [
      "Batches: 100%|██████████| 1/1 [00:00<00:00, 253.36it/s]"
     ]
    },
    {
     "name": "stdout",
     "output_type": "stream",
     "text": [
      "Scores: [0.12428142 0.03190478 0.04215725 0.05914123]\n"
     ]
    },
    {
     "name": "stderr",
     "output_type": "stream",
     "text": [
      "\n"
     ]
    }
   ],
   "source": [
    "from sentence_transformers import CrossEncoder\n",
    "import torch\n",
    "\n",
    "# MODEL_NAME = \"hotchpotch/japanese-reranker-tiny-v2\"\n",
    "\n",
    "# model = CrossEncoder(MODEL_NAME)\n",
    "# if model.device == \"cuda\" or model.device == \"mps\":\n",
    "#     model.model.half()\n",
    "query = \"感動的な映画について\"\n",
    "passages = [\n",
    "    \"深いテーマを持ちながらも、観る人の心を揺さぶる名作。登場人物の心情描写が秀逸で、ラストは涙なしでは見られない。\",\n",
    "    \"重要なメッセージ性は評価できるが、暗い話が続くので気分が落ち込んでしまった。もう少し明るい要素があればよかった。\",\n",
    "    \"どうにもリアリティに欠ける展開が気になった。もっと深みのある人間ドラマが見たかった。\",\n",
    "    \"アクションシーンが楽しすぎる。見ていて飽きない。ストーリーはシンプルだが、それが逆に良い。\",\n",
    "]\n",
    "scores = model.predict(\n",
    "    [(query, passage) for passage in passages],\n",
    "    show_progress_bar=True,\n",
    ")\n",
    "print(\"Scores:\", scores)\n"
   ]
  }
 ],
 "metadata": {
  "kernelspec": {
   "display_name": ".venv",
   "language": "python",
   "name": "python3"
  },
  "language_info": {
   "codemirror_mode": {
    "name": "ipython",
    "version": 3
   },
   "file_extension": ".py",
   "mimetype": "text/x-python",
   "name": "python",
   "nbconvert_exporter": "python",
   "pygments_lexer": "ipython3",
   "version": "3.12.7"
  }
 },
 "nbformat": 4,
 "nbformat_minor": 5
}
