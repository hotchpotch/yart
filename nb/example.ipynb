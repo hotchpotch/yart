{
 "cells": [
  {
   "cell_type": "code",
   "execution_count": 1,
   "id": "1219f4b8",
   "metadata": {},
   "outputs": [
    {
     "name": "stderr",
     "output_type": "stream",
     "text": [
      "/home/hotchpotch/src/github.com/hotchpotch/yart/.venv/lib/python3.12/site-packages/tqdm/auto.py:21: TqdmWarning: IProgress not found. Please update jupyter and ipywidgets. See https://ipywidgets.readthedocs.io/en/stable/user_install.html\n",
      "  from .autonotebook import tqdm as notebook_tqdm\n",
      "You are attempting to use Flash Attention 2.0 with a model not initialized on GPU. Make sure to move the model to GPU after initializing it on CPU with `model.to('cuda')`.\n"
     ]
    }
   ],
   "source": [
    "from transformers import AutoTokenizer, AutoModelForSequenceClassification\n",
    "from torch.nn import Sigmoid\n",
    "import torch\n",
    "import os\n",
    "\n",
    "# MODEL_NAME = \"hotchpotch/tmp-mb-jp-30m-reranker\"\n",
    "MODEL_NAME = \"../outputs/exp337\"\n",
    "device = \"cuda\" if torch.cuda.is_available() else \"cpu\"\n",
    "tokenizer = AutoTokenizer.from_pretrained(MODEL_NAME)\n",
    "\n",
    "model = AutoModelForSequenceClassification.from_pretrained(MODEL_NAME)\n",
    "model.to(device)\n",
    "model.eval()\n",
    "\n",
    "if device == \"cuda\":\n",
    "    model.half()\n"
   ]
  },
  {
   "cell_type": "code",
   "execution_count": 2,
   "id": "dc843d44",
   "metadata": {},
   "outputs": [
    {
     "name": "stdout",
     "output_type": "stream",
     "text": [
      "Passage: 深いテーマを持ちながらも、観る人の心を揺さぶる名作。登場人物の心情描写が秀逸で、ラストは涙なしでは見られない。\n",
      "Score: 0.1231689453125\n",
      "\n",
      "Passage: アクションシーンが楽しすぎる。見ていて飽きない。ストーリーはシンプルだが、それが逆に良い。\n",
      "Score: 0.058349609375\n",
      "\n",
      "Passage: どうにもリアリティに欠ける展開が気になった。もっと深みのある人間ドラマが見たかった。\n",
      "Score: 0.04443359375\n",
      "\n",
      "Passage: 重要なメッセージ性は評価できるが、暗い話が続くので気分が落ち込んでしまった。もう少し明るい要素があればよかった。\n",
      "Score: 0.0257110595703125\n",
      "\n"
     ]
    }
   ],
   "source": [
    "query = \"感動的な映画について\"\n",
    "passages = [\n",
    "    \"深いテーマを持ちながらも、観る人の心を揺さぶる名作。登場人物の心情描写が秀逸で、ラストは涙なしでは見られない。\",\n",
    "    \"重要なメッセージ性は評価できるが、暗い話が続くので気分が落ち込んでしまった。もう少し明るい要素があればよかった。\",\n",
    "    \"どうにもリアリティに欠ける展開が気になった。もっと深みのある人間ドラマが見たかった。\",\n",
    "    \"アクションシーンが楽しすぎる。見ていて飽きない。ストーリーはシンプルだが、それが逆に良い。\",\n",
    "]\n",
    "inputs = tokenizer(\n",
    "    [(query, passage) for passage in passages],\n",
    "    padding=True,\n",
    "    truncation=True,\n",
    "    max_length=8192,\n",
    "    return_tensors=\"pt\",\n",
    ")\n",
    "inputs = {k: v.to(device) for k, v in inputs.items()}\n",
    "logits = model(**inputs).logits\n",
    "activation = Sigmoid()\n",
    "scores = activation(logits).squeeze().tolist()\n",
    "\n",
    "# sort by score\n",
    "sorted_indices = sorted(range(len(scores)), key=lambda i: scores[i], reverse=True)\n",
    "# show sorted results\n",
    "for i in sorted_indices:\n",
    "    print(f\"Passage: {passages[i]}\")\n",
    "    print(f\"Score: {scores[i]}\")\n",
    "    print()\n"
   ]
  }
 ],
 "metadata": {
  "kernelspec": {
   "display_name": ".venv",
   "language": "python",
   "name": "python3"
  },
  "language_info": {
   "codemirror_mode": {
    "name": "ipython",
    "version": 3
   },
   "file_extension": ".py",
   "mimetype": "text/x-python",
   "name": "python",
   "nbconvert_exporter": "python",
   "pygments_lexer": "ipython3",
   "version": "3.12.7"
  }
 },
 "nbformat": 4,
 "nbformat_minor": 5
}
